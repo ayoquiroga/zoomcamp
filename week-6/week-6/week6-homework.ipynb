{
 "cells": [
  {
   "cell_type": "code",
   "execution_count": 1,
   "id": "537d8b1c-229e-4fd1-be86-815c9d179bd1",
   "metadata": {},
   "outputs": [],
   "source": [
    "import json\n",
    "import csv\n",
    "import pandas as pd\n",
    "from kafka import KafkaProducer\n",
    "from time import time as time"
   ]
  },
  {
   "cell_type": "code",
   "execution_count": 2,
   "id": "f8c3c959-41ed-4cb9-b8a3-e442e748b9b5",
   "metadata": {},
   "outputs": [
    {
     "data": {
      "text/plain": [
       "True"
      ]
     },
     "execution_count": 2,
     "metadata": {},
     "output_type": "execute_result"
    }
   ],
   "source": [
    "import json\n",
    "\n",
    "from kafka import KafkaProducer\n",
    "\n",
    "def json_serializer(data):\n",
    "    return json.dumps(data).encode('utf-8')\n",
    "\n",
    "server = 'localhost:9092'\n",
    "\n",
    "producer = KafkaProducer(\n",
    "    bootstrap_servers=[server],\n",
    "    value_serializer=json_serializer\n",
    ")\n",
    "\n",
    "producer.bootstrap_connected()"
   ]
  },
  {
   "cell_type": "code",
   "execution_count": 3,
   "id": "1d29d2f8-6b5b-4705-aecf-3a7aef254cb0",
   "metadata": {},
   "outputs": [
    {
     "name": "stdout",
     "output_type": "stream",
     "text": [
      "took 98.06 seconds\n"
     ]
    }
   ],
   "source": [
    "csv_file = 'green_tripdata_2019-10.csv'  # change to your CSV file path if needed\n",
    "\n",
    "t0 = time()\n",
    "with open(csv_file, 'r', newline='', encoding='utf-8') as file:\n",
    "     reader = csv.DictReader(file)\n",
    "     for row in reader:\n",
    "            # Each row will be a dictionary keyed by the CSV headers\n",
    "            # Send data to Kafka topic \"green-trips\"\n",
    "            producer.send('green-trips', value=row)\n",
    "producer.flush()\n",
    "\n",
    "t1 = time()\n",
    "print(f'took {(t1 - t0):.2f} seconds')\n",
    "\n",
    "producer.close()"
   ]
  },
  {
   "cell_type": "code",
   "execution_count": null,
   "id": "e9df392d-2bd2-4084-bc29-58352da3e94c",
   "metadata": {},
   "outputs": [],
   "source": []
  }
 ],
 "metadata": {
  "kernelspec": {
   "display_name": "Python 3 (ipykernel)",
   "language": "python",
   "name": "python3"
  },
  "language_info": {
   "codemirror_mode": {
    "name": "ipython",
    "version": 3
   },
   "file_extension": ".py",
   "mimetype": "text/x-python",
   "name": "python",
   "nbconvert_exporter": "python",
   "pygments_lexer": "ipython3",
   "version": "3.12.9"
  }
 },
 "nbformat": 4,
 "nbformat_minor": 5
}
